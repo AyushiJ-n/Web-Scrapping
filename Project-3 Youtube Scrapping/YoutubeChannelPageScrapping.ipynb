{
 "cells": [
  {
   "cell_type": "code",
   "execution_count": 1,
   "id": "7ed5d5c9",
   "metadata": {},
   "outputs": [],
   "source": [
    "# Importing libraries\n",
    "\n",
    "import numpy as np\n",
    "import pandas as pd\n",
    "\n",
    "import chromedriver_binary\n",
    "from bs4 import BeautifulSoup\n",
    "from selenium import webdriver"
   ]
  },
  {
   "cell_type": "code",
   "execution_count": 2,
   "id": "880583b1",
   "metadata": {},
   "outputs": [],
   "source": [
    "# Starting selenium chrome webdriver and giving it the link\n",
    "\n",
    "browser = webdriver.Chrome()\n",
    "\n",
    "browser.get('https://www.youtube.com/c/GeeksforGeeksVideos/videos')"
   ]
  },
  {
   "cell_type": "code",
   "execution_count": 3,
   "id": "46af3390",
   "metadata": {},
   "outputs": [],
   "source": [
    "# Making soup of the html page\n",
    "\n",
    "soup = BeautifulSoup(browser.page_source, 'html.parser')"
   ]
  },
  {
   "cell_type": "code",
   "execution_count": 4,
   "id": "ca10c56e",
   "metadata": {},
   "outputs": [],
   "source": [
    "# By Inspecting, getting the main videos content grid\n",
    "\n",
    "sp = soup.find('ytd-rich-grid-renderer')"
   ]
  },
  {
   "cell_type": "code",
   "execution_count": 5,
   "id": "f9eed778",
   "metadata": {},
   "outputs": [
    {
     "data": {
      "text/plain": [
       "30"
      ]
     },
     "execution_count": 5,
     "metadata": {},
     "output_type": "execute_result"
    }
   ],
   "source": [
    "# By Inspecting, getting the rows of videos\n",
    "\n",
    "rows = sp.find_all('ytd-rich-grid-row')\n",
    "len(rows)"
   ]
  },
  {
   "cell_type": "code",
   "execution_count": 6,
   "id": "be66d339",
   "metadata": {},
   "outputs": [],
   "source": [
    "data = []\n",
    "\n",
    "# Getting the details of each row\n",
    "for row in rows:\n",
    "    items = row.find_all('ytd-rich-item-renderer')\n",
    "\n",
    "# Getting the details of each item   \n",
    "    for item in items:\n",
    "        try:\n",
    "            thumbnail_link = item.find('img').get('src').split('?')[0]\n",
    "        except:\n",
    "            thumbnail_link = np.nan\n",
    "        video_link = item.find(class_ = 'yt-simple-endpoint focus-on-expand style-scope ytd-rich-grid-media').get('href')\n",
    "        video_link = 'https://www.youtube.com' + video_link\n",
    "        video_title = item.find(class_ = 'yt-simple-endpoint focus-on-expand style-scope ytd-rich-grid-media').get('title')\n",
    "        views = item.find_all('span', class_ = 'inline-metadata-item style-scope ytd-video-meta-block')[0].text\n",
    "        date_time = item.find_all('span', class_ = 'inline-metadata-item style-scope ytd-video-meta-block')[1].text\n",
    "        video_duration = item.find('span', class_='style-scope ytd-thumbnail-overlay-time-status-renderer').get('aria-label')\n",
    "        data.append([thumbnail_link, video_link, video_title, views, date_time, video_duration])\n",
    "        "
   ]
  },
  {
   "cell_type": "code",
   "execution_count": 7,
   "id": "e34375f6",
   "metadata": {},
   "outputs": [
    {
     "name": "stdout",
     "output_type": "stream",
     "text": [
      "['https://i.ytimg.com/vi/KG4dbF5xRig/hqdefault.jpg', 'https://www.youtube.com/watch?v=KG4dbF5xRig', 'Queue Practice Questions (updated) | GeeksforGeeks', '700 views', '2 days ago', '12 minutes, 14 seconds']\n"
     ]
    },
    {
     "data": {
      "text/plain": [
       "4"
      ]
     },
     "execution_count": 7,
     "metadata": {},
     "output_type": "execute_result"
    }
   ],
   "source": [
    "# Seeing the data\n",
    "print(data[0])\n",
    "len(item)"
   ]
  },
  {
   "cell_type": "code",
   "execution_count": 8,
   "id": "4a7060fe",
   "metadata": {},
   "outputs": [],
   "source": [
    "# Converting into dataframe\n",
    "df = pd.DataFrame(data, columns = ['thumbnail_link','video_link', 'video_title','views','date_time','video_duration'])"
   ]
  },
  {
   "cell_type": "code",
   "execution_count": 9,
   "id": "d287cf0d",
   "metadata": {},
   "outputs": [
    {
     "data": {
      "text/html": [
       "<div>\n",
       "<style scoped>\n",
       "    .dataframe tbody tr th:only-of-type {\n",
       "        vertical-align: middle;\n",
       "    }\n",
       "\n",
       "    .dataframe tbody tr th {\n",
       "        vertical-align: top;\n",
       "    }\n",
       "\n",
       "    .dataframe thead th {\n",
       "        text-align: right;\n",
       "    }\n",
       "</style>\n",
       "<table border=\"1\" class=\"dataframe\">\n",
       "  <thead>\n",
       "    <tr style=\"text-align: right;\">\n",
       "      <th></th>\n",
       "      <th>thumbnail_link</th>\n",
       "      <th>video_link</th>\n",
       "      <th>video_title</th>\n",
       "      <th>views</th>\n",
       "      <th>date_time</th>\n",
       "      <th>video_duration</th>\n",
       "    </tr>\n",
       "  </thead>\n",
       "  <tbody>\n",
       "    <tr>\n",
       "      <th>0</th>\n",
       "      <td>https://i.ytimg.com/vi/KG4dbF5xRig/hqdefault.jpg</td>\n",
       "      <td>https://www.youtube.com/watch?v=KG4dbF5xRig</td>\n",
       "      <td>Queue Practice Questions (updated) | GeeksforG...</td>\n",
       "      <td>700 views</td>\n",
       "      <td>2 days ago</td>\n",
       "      <td>12 minutes, 14 seconds</td>\n",
       "    </tr>\n",
       "    <tr>\n",
       "      <th>1</th>\n",
       "      <td>https://i.ytimg.com/vi/OOLXHwZzHfM/hqdefault.jpg</td>\n",
       "      <td>https://www.youtube.com/watch?v=OOLXHwZzHfM</td>\n",
       "      <td>Free Summer Offline Classes on Python Programi...</td>\n",
       "      <td>3.8K views</td>\n",
       "      <td>5 days ago</td>\n",
       "      <td>37 seconds</td>\n",
       "    </tr>\n",
       "    <tr>\n",
       "      <th>2</th>\n",
       "      <td>https://i.ytimg.com/vi/nDa75spDmeE/hqdefault.jpg</td>\n",
       "      <td>https://www.youtube.com/watch?v=nDa75spDmeE</td>\n",
       "      <td>Python Libraries | Data Science | GeeksforGeeks</td>\n",
       "      <td>1K views</td>\n",
       "      <td>13 days ago</td>\n",
       "      <td>1 minute, 26 seconds</td>\n",
       "    </tr>\n",
       "    <tr>\n",
       "      <th>3</th>\n",
       "      <td>https://i.ytimg.com/vi/SWa-tsbaIpg/hqdefault.jpg</td>\n",
       "      <td>https://www.youtube.com/watch?v=SWa-tsbaIpg</td>\n",
       "      <td>ITR Filing Made Simple | Documents require to ...</td>\n",
       "      <td>803 views</td>\n",
       "      <td>2 weeks ago</td>\n",
       "      <td>5 minutes, 40 seconds</td>\n",
       "    </tr>\n",
       "    <tr>\n",
       "      <th>4</th>\n",
       "      <td>https://i.ytimg.com/vi/cBfC9HLR9Qk/hqdefault.jpg</td>\n",
       "      <td>https://www.youtube.com/watch?v=cBfC9HLR9Qk</td>\n",
       "      <td>Full Stack Development | LIVE Classes | Geeksf...</td>\n",
       "      <td>10K views</td>\n",
       "      <td>2 weeks ago</td>\n",
       "      <td>35 seconds</td>\n",
       "    </tr>\n",
       "  </tbody>\n",
       "</table>\n",
       "</div>"
      ],
      "text/plain": [
       "                                     thumbnail_link  \\\n",
       "0  https://i.ytimg.com/vi/KG4dbF5xRig/hqdefault.jpg   \n",
       "1  https://i.ytimg.com/vi/OOLXHwZzHfM/hqdefault.jpg   \n",
       "2  https://i.ytimg.com/vi/nDa75spDmeE/hqdefault.jpg   \n",
       "3  https://i.ytimg.com/vi/SWa-tsbaIpg/hqdefault.jpg   \n",
       "4  https://i.ytimg.com/vi/cBfC9HLR9Qk/hqdefault.jpg   \n",
       "\n",
       "                                    video_link  \\\n",
       "0  https://www.youtube.com/watch?v=KG4dbF5xRig   \n",
       "1  https://www.youtube.com/watch?v=OOLXHwZzHfM   \n",
       "2  https://www.youtube.com/watch?v=nDa75spDmeE   \n",
       "3  https://www.youtube.com/watch?v=SWa-tsbaIpg   \n",
       "4  https://www.youtube.com/watch?v=cBfC9HLR9Qk   \n",
       "\n",
       "                                         video_title       views    date_time  \\\n",
       "0  Queue Practice Questions (updated) | GeeksforG...   700 views   2 days ago   \n",
       "1  Free Summer Offline Classes on Python Programi...  3.8K views   5 days ago   \n",
       "2    Python Libraries | Data Science | GeeksforGeeks    1K views  13 days ago   \n",
       "3  ITR Filing Made Simple | Documents require to ...   803 views  2 weeks ago   \n",
       "4  Full Stack Development | LIVE Classes | Geeksf...   10K views  2 weeks ago   \n",
       "\n",
       "           video_duration  \n",
       "0  12 minutes, 14 seconds  \n",
       "1              37 seconds  \n",
       "2    1 minute, 26 seconds  \n",
       "3   5 minutes, 40 seconds  \n",
       "4              35 seconds  "
      ]
     },
     "execution_count": 9,
     "metadata": {},
     "output_type": "execute_result"
    }
   ],
   "source": [
    "df.head()"
   ]
  },
  {
   "cell_type": "code",
   "execution_count": 10,
   "id": "7ff51f63",
   "metadata": {},
   "outputs": [
    {
     "data": {
      "text/plain": [
       "thumbnail_link    39\n",
       "video_link         0\n",
       "video_title        0\n",
       "views              0\n",
       "date_time          0\n",
       "video_duration     0\n",
       "dtype: int64"
      ]
     },
     "execution_count": 10,
     "metadata": {},
     "output_type": "execute_result"
    }
   ],
   "source": [
    "# Observing the null values\n",
    "df.isnull().sum()"
   ]
  },
  {
   "cell_type": "code",
   "execution_count": 11,
   "id": "a83f863a",
   "metadata": {},
   "outputs": [
    {
     "data": {
      "text/plain": [
       "90"
      ]
     },
     "execution_count": 11,
     "metadata": {},
     "output_type": "execute_result"
    }
   ],
   "source": [
    "# Length of total dataset\n",
    "len(df)"
   ]
  },
  {
   "cell_type": "code",
   "execution_count": 12,
   "id": "f7de5c0b",
   "metadata": {},
   "outputs": [],
   "source": [
    "#   Saving the extracted data into csv file\n",
    "df.to_csv('GFGyoutubePage.csv', index = False)"
   ]
  },
  {
   "cell_type": "code",
   "execution_count": null,
   "id": "9de5f279",
   "metadata": {},
   "outputs": [],
   "source": []
  },
  {
   "cell_type": "code",
   "execution_count": null,
   "id": "f8fedf1f",
   "metadata": {},
   "outputs": [],
   "source": []
  }
 ],
 "metadata": {
  "kernelspec": {
   "display_name": "Python 3 (ipykernel)",
   "language": "python",
   "name": "python3"
  },
  "language_info": {
   "codemirror_mode": {
    "name": "ipython",
    "version": 3
   },
   "file_extension": ".py",
   "mimetype": "text/x-python",
   "name": "python",
   "nbconvert_exporter": "python",
   "pygments_lexer": "ipython3",
   "version": "3.10.9"
  }
 },
 "nbformat": 4,
 "nbformat_minor": 5
}
