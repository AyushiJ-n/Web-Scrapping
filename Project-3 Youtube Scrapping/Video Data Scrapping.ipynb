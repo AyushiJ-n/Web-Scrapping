{
 "cells": [
  {
   "cell_type": "code",
   "execution_count": 1,
   "id": "8d3f9756",
   "metadata": {},
   "outputs": [],
   "source": [
    "# Importing libraries\n",
    "\n",
    "import time\n",
    "import numpy as np\n",
    "import pandas as pd\n",
    "from tqdm import tqdm\n",
    "\n",
    "import chromedriver_binary\n",
    "from bs4 import BeautifulSoup\n",
    "from selenium import webdriver"
   ]
  },
  {
   "cell_type": "code",
   "execution_count": 2,
   "id": "343aba7b",
   "metadata": {},
   "outputs": [
    {
     "data": {
      "text/html": [
       "<div>\n",
       "<style scoped>\n",
       "    .dataframe tbody tr th:only-of-type {\n",
       "        vertical-align: middle;\n",
       "    }\n",
       "\n",
       "    .dataframe tbody tr th {\n",
       "        vertical-align: top;\n",
       "    }\n",
       "\n",
       "    .dataframe thead th {\n",
       "        text-align: right;\n",
       "    }\n",
       "</style>\n",
       "<table border=\"1\" class=\"dataframe\">\n",
       "  <thead>\n",
       "    <tr style=\"text-align: right;\">\n",
       "      <th></th>\n",
       "      <th>thumbnail_link</th>\n",
       "      <th>video_link</th>\n",
       "      <th>video_title</th>\n",
       "      <th>views</th>\n",
       "      <th>date_time</th>\n",
       "      <th>video_duration</th>\n",
       "    </tr>\n",
       "  </thead>\n",
       "  <tbody>\n",
       "    <tr>\n",
       "      <th>0</th>\n",
       "      <td>https://i.ytimg.com/vi/KG4dbF5xRig/hqdefault.jpg</td>\n",
       "      <td>https://www.youtube.com/watch?v=KG4dbF5xRig</td>\n",
       "      <td>Queue Practice Questions (updated) | GeeksforG...</td>\n",
       "      <td>700 views</td>\n",
       "      <td>2 days ago</td>\n",
       "      <td>12 minutes, 14 seconds</td>\n",
       "    </tr>\n",
       "    <tr>\n",
       "      <th>1</th>\n",
       "      <td>https://i.ytimg.com/vi/OOLXHwZzHfM/hqdefault.jpg</td>\n",
       "      <td>https://www.youtube.com/watch?v=OOLXHwZzHfM</td>\n",
       "      <td>Free Summer Offline Classes on Python Programi...</td>\n",
       "      <td>3.8K views</td>\n",
       "      <td>5 days ago</td>\n",
       "      <td>37 seconds</td>\n",
       "    </tr>\n",
       "    <tr>\n",
       "      <th>2</th>\n",
       "      <td>https://i.ytimg.com/vi/nDa75spDmeE/hqdefault.jpg</td>\n",
       "      <td>https://www.youtube.com/watch?v=nDa75spDmeE</td>\n",
       "      <td>Python Libraries | Data Science | GeeksforGeeks</td>\n",
       "      <td>1K views</td>\n",
       "      <td>13 days ago</td>\n",
       "      <td>1 minute, 26 seconds</td>\n",
       "    </tr>\n",
       "    <tr>\n",
       "      <th>3</th>\n",
       "      <td>https://i.ytimg.com/vi/SWa-tsbaIpg/hqdefault.jpg</td>\n",
       "      <td>https://www.youtube.com/watch?v=SWa-tsbaIpg</td>\n",
       "      <td>ITR Filing Made Simple | Documents require to ...</td>\n",
       "      <td>803 views</td>\n",
       "      <td>2 weeks ago</td>\n",
       "      <td>5 minutes, 40 seconds</td>\n",
       "    </tr>\n",
       "    <tr>\n",
       "      <th>4</th>\n",
       "      <td>https://i.ytimg.com/vi/cBfC9HLR9Qk/hqdefault.jpg</td>\n",
       "      <td>https://www.youtube.com/watch?v=cBfC9HLR9Qk</td>\n",
       "      <td>Full Stack Development | LIVE Classes | Geeksf...</td>\n",
       "      <td>10K views</td>\n",
       "      <td>2 weeks ago</td>\n",
       "      <td>35 seconds</td>\n",
       "    </tr>\n",
       "  </tbody>\n",
       "</table>\n",
       "</div>"
      ],
      "text/plain": [
       "                                     thumbnail_link  \\\n",
       "0  https://i.ytimg.com/vi/KG4dbF5xRig/hqdefault.jpg   \n",
       "1  https://i.ytimg.com/vi/OOLXHwZzHfM/hqdefault.jpg   \n",
       "2  https://i.ytimg.com/vi/nDa75spDmeE/hqdefault.jpg   \n",
       "3  https://i.ytimg.com/vi/SWa-tsbaIpg/hqdefault.jpg   \n",
       "4  https://i.ytimg.com/vi/cBfC9HLR9Qk/hqdefault.jpg   \n",
       "\n",
       "                                    video_link  \\\n",
       "0  https://www.youtube.com/watch?v=KG4dbF5xRig   \n",
       "1  https://www.youtube.com/watch?v=OOLXHwZzHfM   \n",
       "2  https://www.youtube.com/watch?v=nDa75spDmeE   \n",
       "3  https://www.youtube.com/watch?v=SWa-tsbaIpg   \n",
       "4  https://www.youtube.com/watch?v=cBfC9HLR9Qk   \n",
       "\n",
       "                                         video_title       views    date_time  \\\n",
       "0  Queue Practice Questions (updated) | GeeksforG...   700 views   2 days ago   \n",
       "1  Free Summer Offline Classes on Python Programi...  3.8K views   5 days ago   \n",
       "2    Python Libraries | Data Science | GeeksforGeeks    1K views  13 days ago   \n",
       "3  ITR Filing Made Simple | Documents require to ...   803 views  2 weeks ago   \n",
       "4  Full Stack Development | LIVE Classes | Geeksf...   10K views  2 weeks ago   \n",
       "\n",
       "           video_duration  \n",
       "0  12 minutes, 14 seconds  \n",
       "1              37 seconds  \n",
       "2    1 minute, 26 seconds  \n",
       "3   5 minutes, 40 seconds  \n",
       "4              35 seconds  "
      ]
     },
     "execution_count": 2,
     "metadata": {},
     "output_type": "execute_result"
    }
   ],
   "source": [
    "df = pd.read_csv('GFGyoutubePage.csv')\n",
    "df.head()"
   ]
  },
  {
   "cell_type": "code",
   "execution_count": 3,
   "id": "394f9d08",
   "metadata": {},
   "outputs": [],
   "source": [
    "browser = webdriver.Chrome()\n",
    "browser.get('https://www.youtube.com')\n",
    "time.sleep(2)"
   ]
  },
  {
   "cell_type": "code",
   "execution_count": null,
   "id": "e1bf2351",
   "metadata": {},
   "outputs": [
    {
     "name": "stderr",
     "output_type": "stream",
     "text": [
      " 19%|█▉        | 17/90 [11:49<50:47, 41.75s/it]\n"
     ]
    }
   ],
   "source": [
    "data = []\n",
    "for link in tqdm(df['video_link']):\n",
    "    browser.get(link)\n",
    "    time.sleep(10)\n",
    "    soup = BeautifulSoup(browser.page_source, 'html.parser')\n",
    "    try:\n",
    "        title = soup.find('h1',class_ = 'style-scope ytd-watch-metadata').text.strip('\\n')\n",
    "    except:\n",
    "        title = np.nan\n",
    "    try:\n",
    "        view = soup.find_all('span', class_ = 'bold style-scope yt-formatted-string')[0].text\n",
    "    except:\n",
    "        view = np.nan\n",
    "#     try:\n",
    "#     like = soup.find_all('span', class_ = 'bold style-scope yt-formatted-string')[1].text\n",
    "#     except:\n",
    "#         like = np.nan\n",
    "#     try:\n",
    "#     date_time = soup.find_all('span', class_ = 'bold style-scope yt-formatted-string')[1].text\n",
    "#     except:\n",
    "#         date_time = np.nan\n",
    "    try:\n",
    "        description = soup.find('span', class_ = 'yt-core-attributed-string yt-core-attributed-string--white-space-pre-wrap').text\n",
    "    except:\n",
    "        description = np.nan\n",
    "    try:\n",
    "        video_duration = soup.find('span', class_='ytp-time-duration').text\n",
    "    except:\n",
    "        video_duration = np.nan\n",
    "    \n",
    "    data.append([title, view, video_duration,description])"
   ]
  },
  {
   "cell_type": "code",
   "execution_count": null,
   "id": "a663b35f",
   "metadata": {},
   "outputs": [],
   "source": [
    "len(data)"
   ]
  },
  {
   "cell_type": "code",
   "execution_count": null,
   "id": "15184850",
   "metadata": {},
   "outputs": [],
   "source": [
    "DF = pd.DataFrame(data, columns = ['Title','View','Duration','Description'])\n",
    "DF.isnull().sum()"
   ]
  },
  {
   "cell_type": "code",
   "execution_count": null,
   "id": "8cd8fd69",
   "metadata": {},
   "outputs": [],
   "source": [
    "DF.to_csv('GFG.csv', index = False)"
   ]
  },
  {
   "cell_type": "code",
   "execution_count": null,
   "id": "af5a5565",
   "metadata": {},
   "outputs": [],
   "source": []
  }
 ],
 "metadata": {
  "kernelspec": {
   "display_name": "Python 3 (ipykernel)",
   "language": "python",
   "name": "python3"
  },
  "language_info": {
   "codemirror_mode": {
    "name": "ipython",
    "version": 3
   },
   "file_extension": ".py",
   "mimetype": "text/x-python",
   "name": "python",
   "nbconvert_exporter": "python",
   "pygments_lexer": "ipython3",
   "version": "3.10.9"
  }
 },
 "nbformat": 4,
 "nbformat_minor": 5
}
