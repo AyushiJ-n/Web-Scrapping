{
 "cells": [
  {
   "cell_type": "markdown",
   "id": "bc762105",
   "metadata": {},
   "source": [
    "## Scrapping Author's Info"
   ]
  },
  {
   "cell_type": "code",
   "execution_count": 1,
   "id": "27905b9a",
   "metadata": {},
   "outputs": [],
   "source": [
    "# Import libraries\n",
    "\n",
    "import requests\n",
    "from bs4 import BeautifulSoup\n",
    "import pandas as pd"
   ]
  },
  {
   "cell_type": "code",
   "execution_count": 2,
   "id": "790bffcd",
   "metadata": {},
   "outputs": [
    {
     "data": {
      "text/html": [
       "<div>\n",
       "<style scoped>\n",
       "    .dataframe tbody tr th:only-of-type {\n",
       "        vertical-align: middle;\n",
       "    }\n",
       "\n",
       "    .dataframe tbody tr th {\n",
       "        vertical-align: top;\n",
       "    }\n",
       "\n",
       "    .dataframe thead th {\n",
       "        text-align: right;\n",
       "    }\n",
       "</style>\n",
       "<table border=\"1\" class=\"dataframe\">\n",
       "  <thead>\n",
       "    <tr style=\"text-align: right;\">\n",
       "      <th></th>\n",
       "      <th>Author</th>\n",
       "      <th>Author_birth</th>\n",
       "      <th>Author_place</th>\n",
       "      <th>Description</th>\n",
       "    </tr>\n",
       "  </thead>\n",
       "  <tbody>\n",
       "    <tr>\n",
       "      <th>0</th>\n",
       "      <td>Albert Einstein</td>\n",
       "      <td>March 14, 1879</td>\n",
       "      <td>Ulm, Germany</td>\n",
       "      <td>In 1879, Albert Einstein was born in Ul...</td>\n",
       "    </tr>\n",
       "    <tr>\n",
       "      <th>1</th>\n",
       "      <td>J.K. Rowling</td>\n",
       "      <td>July 31, 1965</td>\n",
       "      <td>Yate, South Gloucestershire, England, The Unit...</td>\n",
       "      <td>See also: Robert GalbraithAlthough she ...</td>\n",
       "    </tr>\n",
       "    <tr>\n",
       "      <th>2</th>\n",
       "      <td>Albert Einstein</td>\n",
       "      <td>March 14, 1879</td>\n",
       "      <td>Ulm, Germany</td>\n",
       "      <td>In 1879, Albert Einstein was born in Ul...</td>\n",
       "    </tr>\n",
       "    <tr>\n",
       "      <th>3</th>\n",
       "      <td>Jane Austen</td>\n",
       "      <td>December 16, 1775</td>\n",
       "      <td>Steventon Rectory, Hampshire, The United Kingdom</td>\n",
       "      <td>Jane Austen was an English novelist who...</td>\n",
       "    </tr>\n",
       "    <tr>\n",
       "      <th>4</th>\n",
       "      <td>Marilyn Monroe</td>\n",
       "      <td>June 01, 1926</td>\n",
       "      <td>The United States</td>\n",
       "      <td>Marilyn Monroe (born Norma Jeane Morten...</td>\n",
       "    </tr>\n",
       "  </tbody>\n",
       "</table>\n",
       "</div>"
      ],
      "text/plain": [
       "            Author       Author_birth  \\\n",
       "0  Albert Einstein     March 14, 1879   \n",
       "1     J.K. Rowling      July 31, 1965   \n",
       "2  Albert Einstein     March 14, 1879   \n",
       "3      Jane Austen  December 16, 1775   \n",
       "4   Marilyn Monroe      June 01, 1926   \n",
       "\n",
       "                                        Author_place  \\\n",
       "0                                       Ulm, Germany   \n",
       "1  Yate, South Gloucestershire, England, The Unit...   \n",
       "2                                       Ulm, Germany   \n",
       "3   Steventon Rectory, Hampshire, The United Kingdom   \n",
       "4                                  The United States   \n",
       "\n",
       "                                         Description  \n",
       "0         In 1879, Albert Einstein was born in Ul...  \n",
       "1         See also: Robert GalbraithAlthough she ...  \n",
       "2         In 1879, Albert Einstein was born in Ul...  \n",
       "3         Jane Austen was an English novelist who...  \n",
       "4         Marilyn Monroe (born Norma Jeane Morten...  "
      ]
     },
     "execution_count": 2,
     "metadata": {},
     "output_type": "execute_result"
    }
   ],
   "source": [
    "# Get the link of webpage to be scrapped, request and make a soup using html parser\n",
    "\n",
    "main_link = 'http://quotes.toscrape.com/'\n",
    "res = requests.get(main_link)\n",
    "sp = BeautifulSoup(res.text, 'html.parser')\n",
    "\n",
    "data = []\n",
    "\n",
    "\n",
    "for quote_detail in sp.find_all('div', class_ = 'quote'):\n",
    "    \n",
    "# Get the link of inner webpage, which is to be scrapped, request and make a soup using html parser\n",
    "\n",
    "    author_id = quote_detail.find('a').get('href')\n",
    "    sub_link = main_link[:-1] + (author_id) + '/'\n",
    "    response = requests.get(sub_link)\n",
    "    soup = BeautifulSoup(response.text, 'html.parser')\n",
    "\n",
    "# Observe the tag and class of author details by inspectig the webpage and add them to a list \n",
    "\n",
    "    author = quote_detail.find('small', class_ = 'author').text\n",
    "    author_birth = soup.find('span', class_ = 'author-born-date').text\n",
    "    author_place = soup.find('span', class_ = 'author-born-location').text[3:]\n",
    "    description = soup.find('div', class_ = 'author-description').text[2:]\n",
    "    \n",
    "    data.append([author, author_birth, author_place, description])\n",
    "\n",
    "# Make a Dataframe to showcase/play the list of lists clearly\n",
    "\n",
    "df = pd.DataFrame(data, columns = ['Author', 'Author_birth', 'Author_place', 'Description'])\n",
    "df.head()"
   ]
  },
  {
   "cell_type": "code",
   "execution_count": 3,
   "id": "c908b3ae",
   "metadata": {},
   "outputs": [],
   "source": [
    "# Make a csv file to save the extracted data\n",
    "\n",
    "df.to_csv('AuthorsDetails.csv', index = False)"
   ]
  },
  {
   "cell_type": "code",
   "execution_count": null,
   "id": "d7432fd6",
   "metadata": {},
   "outputs": [],
   "source": []
  }
 ],
 "metadata": {
  "kernelspec": {
   "display_name": "Python 3 (ipykernel)",
   "language": "python",
   "name": "python3"
  },
  "language_info": {
   "codemirror_mode": {
    "name": "ipython",
    "version": 3
   },
   "file_extension": ".py",
   "mimetype": "text/x-python",
   "name": "python",
   "nbconvert_exporter": "python",
   "pygments_lexer": "ipython3",
   "version": "3.10.9"
  }
 },
 "nbformat": 4,
 "nbformat_minor": 5
}
