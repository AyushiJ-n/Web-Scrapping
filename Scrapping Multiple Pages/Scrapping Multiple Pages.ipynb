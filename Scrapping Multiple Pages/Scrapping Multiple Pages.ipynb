{
 "cells": [
  {
   "cell_type": "markdown",
   "id": "400f7bc4",
   "metadata": {},
   "source": [
    "## Scrapping Multiple Pages"
   ]
  },
  {
   "cell_type": "code",
   "execution_count": 1,
   "id": "4062f4bc",
   "metadata": {},
   "outputs": [],
   "source": [
    "# Import libraries\n",
    "\n",
    "import requests\n",
    "from bs4 import BeautifulSoup\n",
    "import pandas as pd\n",
    "from tqdm import tqdm"
   ]
  },
  {
   "cell_type": "code",
   "execution_count": 2,
   "id": "934a6928",
   "metadata": {},
   "outputs": [
    {
     "name": "stderr",
     "output_type": "stream",
     "text": [
      "100%|██████████| 10/10 [00:22<00:00,  2.25s/it]\n"
     ]
    }
   ],
   "source": [
    "data = []\n",
    "\n",
    "# Looping for the numper of pages to be scrapped\n",
    "\n",
    "for page in tqdm(range(1,11)):\n",
    "\n",
    "# Get the link of webpage to be scrapped, request and make a soup using html parser\n",
    "\n",
    "    link = 'https://quotes.toscrape.com/page/' + str(page)\n",
    "    res  = requests.get(link)\n",
    "    soup = BeautifulSoup(res.text, 'html.parser')\n",
    "    \n",
    "# Observe the tag and class of quote details by inspectig the webpage\n",
    "\n",
    "    for sp in soup.find_all('div', class_ = 'quote'):\n",
    "\n",
    "        quote     = sp.find('span', class_ = 'text').text[1:-1]\n",
    "        author    = sp.find('small').text\n",
    "        author_id = sp.find('a').get('href')\n",
    "\n",
    "        tags = []\n",
    "        for tag in sp.find_all('a',class_ = 'tag'):\n",
    "            tags.append(tag.text)\n",
    "        tags = ','.join(tags)\n",
    "        \n",
    "# Add all details in a list\n",
    "\n",
    "        data.append([quote, author, author_id, tags])"
   ]
  },
  {
   "cell_type": "code",
   "execution_count": 3,
   "id": "a0bb69cc",
   "metadata": {},
   "outputs": [
    {
     "data": {
      "text/html": [
       "<div>\n",
       "<style scoped>\n",
       "    .dataframe tbody tr th:only-of-type {\n",
       "        vertical-align: middle;\n",
       "    }\n",
       "\n",
       "    .dataframe tbody tr th {\n",
       "        vertical-align: top;\n",
       "    }\n",
       "\n",
       "    .dataframe thead th {\n",
       "        text-align: right;\n",
       "    }\n",
       "</style>\n",
       "<table border=\"1\" class=\"dataframe\">\n",
       "  <thead>\n",
       "    <tr style=\"text-align: right;\">\n",
       "      <th></th>\n",
       "      <th>quote</th>\n",
       "      <th>author</th>\n",
       "      <th>author_id</th>\n",
       "      <th>tags</th>\n",
       "    </tr>\n",
       "  </thead>\n",
       "  <tbody>\n",
       "    <tr>\n",
       "      <th>95</th>\n",
       "      <td>You never really understand a person until you...</td>\n",
       "      <td>Harper Lee</td>\n",
       "      <td>/author/Harper-Lee</td>\n",
       "      <td>better-life-empathy</td>\n",
       "    </tr>\n",
       "    <tr>\n",
       "      <th>96</th>\n",
       "      <td>You have to write the book that wants to be wr...</td>\n",
       "      <td>Madeleine L'Engle</td>\n",
       "      <td>/author/Madeleine-LEngle</td>\n",
       "      <td>books,children,difficult,grown-ups,write,write...</td>\n",
       "    </tr>\n",
       "    <tr>\n",
       "      <th>97</th>\n",
       "      <td>Never tell the truth to people who are not wor...</td>\n",
       "      <td>Mark Twain</td>\n",
       "      <td>/author/Mark-Twain</td>\n",
       "      <td>truth</td>\n",
       "    </tr>\n",
       "    <tr>\n",
       "      <th>98</th>\n",
       "      <td>A person's a person, no matter how small.</td>\n",
       "      <td>Dr. Seuss</td>\n",
       "      <td>/author/Dr-Seuss</td>\n",
       "      <td>inspirational</td>\n",
       "    </tr>\n",
       "    <tr>\n",
       "      <th>99</th>\n",
       "      <td>... a mind needs books as a sword needs a whet...</td>\n",
       "      <td>George R.R. Martin</td>\n",
       "      <td>/author/George-R-R-Martin</td>\n",
       "      <td>books,mind</td>\n",
       "    </tr>\n",
       "  </tbody>\n",
       "</table>\n",
       "</div>"
      ],
      "text/plain": [
       "                                                quote              author  \\\n",
       "95  You never really understand a person until you...          Harper Lee   \n",
       "96  You have to write the book that wants to be wr...   Madeleine L'Engle   \n",
       "97  Never tell the truth to people who are not wor...          Mark Twain   \n",
       "98          A person's a person, no matter how small.           Dr. Seuss   \n",
       "99  ... a mind needs books as a sword needs a whet...  George R.R. Martin   \n",
       "\n",
       "                    author_id  \\\n",
       "95         /author/Harper-Lee   \n",
       "96   /author/Madeleine-LEngle   \n",
       "97         /author/Mark-Twain   \n",
       "98           /author/Dr-Seuss   \n",
       "99  /author/George-R-R-Martin   \n",
       "\n",
       "                                                 tags  \n",
       "95                                better-life-empathy  \n",
       "96  books,children,difficult,grown-ups,write,write...  \n",
       "97                                              truth  \n",
       "98                                      inspirational  \n",
       "99                                         books,mind  "
      ]
     },
     "execution_count": 3,
     "metadata": {},
     "output_type": "execute_result"
    }
   ],
   "source": [
    "# Make a Dataframe to showcase/play the list of lists clearly\n",
    "\n",
    "df = pd.DataFrame(data, columns = ['quote','author','author_id','tags'])\n",
    "df.tail()"
   ]
  },
  {
   "cell_type": "code",
   "execution_count": 4,
   "id": "daa780ec",
   "metadata": {},
   "outputs": [],
   "source": [
    "# Make a csv file to save the extracted data\n",
    "\n",
    "df.to_csv('AllQuotes.csv', index = False)"
   ]
  },
  {
   "cell_type": "code",
   "execution_count": null,
   "id": "69998733",
   "metadata": {},
   "outputs": [],
   "source": []
  }
 ],
 "metadata": {
  "kernelspec": {
   "display_name": "Python 3 (ipykernel)",
   "language": "python",
   "name": "python3"
  },
  "language_info": {
   "codemirror_mode": {
    "name": "ipython",
    "version": 3
   },
   "file_extension": ".py",
   "mimetype": "text/x-python",
   "name": "python",
   "nbconvert_exporter": "python",
   "pygments_lexer": "ipython3",
   "version": "3.10.9"
  }
 },
 "nbformat": 4,
 "nbformat_minor": 5
}
