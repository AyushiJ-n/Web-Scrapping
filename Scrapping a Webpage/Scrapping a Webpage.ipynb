{
 "cells": [
  {
   "cell_type": "markdown",
   "id": "907a2781",
   "metadata": {},
   "source": [
    "## Scraping a webpage"
   ]
  },
  {
   "cell_type": "code",
   "execution_count": 1,
   "id": "0b9991fb",
   "metadata": {},
   "outputs": [],
   "source": [
    "# Importing Library\n",
    "\n",
    "import requests"
   ]
  },
  {
   "cell_type": "code",
   "execution_count": 2,
   "id": "804de8b8",
   "metadata": {},
   "outputs": [],
   "source": [
    "# Link of Webpage that to be scrapped\n",
    "\n",
    "link = 'http://quotes.toscrape.com/'"
   ]
  },
  {
   "cell_type": "code",
   "execution_count": 3,
   "id": "f035fb79",
   "metadata": {},
   "outputs": [],
   "source": [
    "# Response of the request send to the webpage for getting its data\n",
    "\n",
    "response = requests.get(link)"
   ]
  },
  {
   "cell_type": "code",
   "execution_count": 4,
   "id": "555b130c",
   "metadata": {},
   "outputs": [],
   "source": [
    "# Converting data into text form\n",
    "\n",
    "html = response.text"
   ]
  },
  {
   "cell_type": "code",
   "execution_count": 5,
   "id": "27760cf3",
   "metadata": {},
   "outputs": [],
   "source": [
    "# Making html file for saving the data extracted\n",
    "\n",
    "fd = open('Webpage.html', 'w')\n",
    "fd.write(html)\n",
    "fd.close()"
   ]
  },
  {
   "cell_type": "code",
   "execution_count": null,
   "id": "43569df7",
   "metadata": {},
   "outputs": [],
   "source": []
  }
 ],
 "metadata": {
  "kernelspec": {
   "display_name": "Python 3 (ipykernel)",
   "language": "python",
   "name": "python3"
  },
  "language_info": {
   "codemirror_mode": {
    "name": "ipython",
    "version": 3
   },
   "file_extension": ".py",
   "mimetype": "text/x-python",
   "name": "python",
   "nbconvert_exporter": "python",
   "pygments_lexer": "ipython3",
   "version": "3.10.9"
  }
 },
 "nbformat": 4,
 "nbformat_minor": 5
}
